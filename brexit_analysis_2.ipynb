{
 "cells": [
  {
   "cell_type": "markdown",
   "metadata": {},
   "source": [
    "## Brexit Analysis: Continuation\n"
   ]
  },
  {
   "cell_type": "code",
   "execution_count": 1,
   "metadata": {},
   "outputs": [
    {
     "name": "stderr",
     "output_type": "stream",
     "text": [
      "/usr/local/opt/python/Frameworks/Python.framework/Versions/3.7/lib/python3.7/importlib/_bootstrap.py:219: RuntimeWarning: numpy.ufunc size changed, may indicate binary incompatibility. Expected 192 from C header, got 216 from PyObject\n",
      "  return f(*args, **kwds)\n"
     ]
    }
   ],
   "source": [
    "import pandas as pd\n",
    "import numpy as np\n",
    "from matplotlib import pyplot as plt\n",
    "from textblob import TextBlob\n",
    "import os\n",
    "\n",
    "pjoin = os.path.join"
   ]
  },
  {
   "cell_type": "code",
   "execution_count": 32,
   "metadata": {},
   "outputs": [
    {
     "data": {
      "text/html": [
       "<div>\n",
       "<style scoped>\n",
       "    .dataframe tbody tr th:only-of-type {\n",
       "        vertical-align: middle;\n",
       "    }\n",
       "\n",
       "    .dataframe tbody tr th {\n",
       "        vertical-align: top;\n",
       "    }\n",
       "\n",
       "    .dataframe thead th {\n",
       "        text-align: right;\n",
       "    }\n",
       "</style>\n",
       "<table border=\"1\" class=\"dataframe\">\n",
       "  <thead>\n",
       "    <tr style=\"text-align: right;\">\n",
       "      <th></th>\n",
       "      <th>username</th>\n",
       "      <th>DateTime</th>\n",
       "      <th>retweets</th>\n",
       "      <th>favorites</th>\n",
       "      <th>text</th>\n",
       "      <th>Date</th>\n",
       "      <th>Hour</th>\n",
       "      <th>Unnamed: 0</th>\n",
       "    </tr>\n",
       "  </thead>\n",
       "  <tbody>\n",
       "    <tr>\n",
       "      <th>0</th>\n",
       "      <td>sharpielaw</td>\n",
       "      <td>2016-07-14 23:59:00</td>\n",
       "      <td>0</td>\n",
       "      <td>1</td>\n",
       "      <td>As May's agenda is to alienate Britain from Eu...</td>\n",
       "      <td>2016-07-14</td>\n",
       "      <td>23</td>\n",
       "      <td>NaN</td>\n",
       "    </tr>\n",
       "    <tr>\n",
       "      <th>1</th>\n",
       "      <td>yinyangyogi</td>\n",
       "      <td>2016-07-14 23:59:00</td>\n",
       "      <td>0</td>\n",
       "      <td>0</td>\n",
       "      <td>Difference in opinion of propaganda. For a lot...</td>\n",
       "      <td>2016-07-14</td>\n",
       "      <td>23</td>\n",
       "      <td>NaN</td>\n",
       "    </tr>\n",
       "    <tr>\n",
       "      <th>2</th>\n",
       "      <td>mssmoney_1</td>\n",
       "      <td>2016-07-14 23:59:00</td>\n",
       "      <td>0</td>\n",
       "      <td>0</td>\n",
       "      <td>Brexit is emerging as a key worry on U.S. comp...</td>\n",
       "      <td>2016-07-14</td>\n",
       "      <td>23</td>\n",
       "      <td>NaN</td>\n",
       "    </tr>\n",
       "    <tr>\n",
       "      <th>3</th>\n",
       "      <td>hengistmcstone</td>\n",
       "      <td>2016-07-14 23:59:00</td>\n",
       "      <td>0</td>\n",
       "      <td>0</td>\n",
       "      <td>I still say Brexit is not the will of the ppl ...</td>\n",
       "      <td>2016-07-14</td>\n",
       "      <td>23</td>\n",
       "      <td>NaN</td>\n",
       "    </tr>\n",
       "    <tr>\n",
       "      <th>4</th>\n",
       "      <td>kv654321</td>\n",
       "      <td>2016-07-14 23:59:00</td>\n",
       "      <td>1</td>\n",
       "      <td>2</td>\n",
       "      <td>People have voted for unknown - reality genera...</td>\n",
       "      <td>2016-07-14</td>\n",
       "      <td>23</td>\n",
       "      <td>NaN</td>\n",
       "    </tr>\n",
       "  </tbody>\n",
       "</table>\n",
       "</div>"
      ],
      "text/plain": [
       "         username             DateTime  retweets  favorites  \\\n",
       "0      sharpielaw  2016-07-14 23:59:00         0          1   \n",
       "1     yinyangyogi  2016-07-14 23:59:00         0          0   \n",
       "2      mssmoney_1  2016-07-14 23:59:00         0          0   \n",
       "3  hengistmcstone  2016-07-14 23:59:00         0          0   \n",
       "4        kv654321  2016-07-14 23:59:00         1          2   \n",
       "\n",
       "                                                text        Date  Hour  \\\n",
       "0  As May's agenda is to alienate Britain from Eu...  2016-07-14    23   \n",
       "1  Difference in opinion of propaganda. For a lot...  2016-07-14    23   \n",
       "2  Brexit is emerging as a key worry on U.S. comp...  2016-07-14    23   \n",
       "3  I still say Brexit is not the will of the ppl ...  2016-07-14    23   \n",
       "4  People have voted for unknown - reality genera...  2016-07-14    23   \n",
       "\n",
       "   Unnamed: 0  \n",
       "0         NaN  \n",
       "1         NaN  \n",
       "2         NaN  \n",
       "3         NaN  \n",
       "4         NaN  "
      ]
     },
     "execution_count": 32,
     "metadata": {},
     "output_type": "execute_result"
    }
   ],
   "source": [
    "# Download data from all tweets\n",
    "data_dir = './data/tweet/brexit/is/processed'\n",
    "filenames = [\n",
    "    '2016-07-14_all.csv',\n",
    "    '2016-07-11_all.csv',\n",
    "    '2016-07-08_all.csv',\n",
    "    '2016-07-05_all.csv'\n",
    "]\n",
    "\n",
    "# Combine the files\n",
    "\n",
    "df = pd.concat([pd.read_csv(pjoin(data_dir, f)) for f in filenames])\n",
    "\n",
    "# Clean the dataframe\n",
    "df.drop(columns=['geo', 'mentions', 'hashtags', 'id', 'permalink'], inplace=True)\n",
    "is_07july = df['Date'] == '2016-07-07'\n",
    "df = df[~is_07july]\n",
    "df.head()\n"
   ]
  },
  {
   "cell_type": "code",
   "execution_count": 34,
   "metadata": {},
   "outputs": [
    {
     "data": {
      "text/html": [
       "<div>\n",
       "<style scoped>\n",
       "    .dataframe tbody tr th:only-of-type {\n",
       "        vertical-align: middle;\n",
       "    }\n",
       "\n",
       "    .dataframe tbody tr th {\n",
       "        vertical-align: top;\n",
       "    }\n",
       "\n",
       "    .dataframe thead th {\n",
       "        text-align: right;\n",
       "    }\n",
       "</style>\n",
       "<table border=\"1\" class=\"dataframe\">\n",
       "  <thead>\n",
       "    <tr style=\"text-align: right;\">\n",
       "      <th></th>\n",
       "      <th>username</th>\n",
       "      <th>DateTime</th>\n",
       "      <th>retweets</th>\n",
       "      <th>favorites</th>\n",
       "      <th>text</th>\n",
       "      <th>Date</th>\n",
       "      <th>Hour</th>\n",
       "      <th>Unnamed: 0</th>\n",
       "      <th>sentiment_score</th>\n",
       "      <th>sentiment</th>\n",
       "    </tr>\n",
       "  </thead>\n",
       "  <tbody>\n",
       "    <tr>\n",
       "      <th>0</th>\n",
       "      <td>sharpielaw</td>\n",
       "      <td>2016-07-14 23:59:00</td>\n",
       "      <td>0</td>\n",
       "      <td>1</td>\n",
       "      <td>As May's agenda is to alienate Britain from Eu...</td>\n",
       "      <td>2016-07-14</td>\n",
       "      <td>23</td>\n",
       "      <td>NaN</td>\n",
       "      <td>0.437500</td>\n",
       "      <td>1</td>\n",
       "    </tr>\n",
       "    <tr>\n",
       "      <th>1</th>\n",
       "      <td>yinyangyogi</td>\n",
       "      <td>2016-07-14 23:59:00</td>\n",
       "      <td>0</td>\n",
       "      <td>0</td>\n",
       "      <td>Difference in opinion of propaganda. For a lot...</td>\n",
       "      <td>2016-07-14</td>\n",
       "      <td>23</td>\n",
       "      <td>NaN</td>\n",
       "      <td>-0.100000</td>\n",
       "      <td>-1</td>\n",
       "    </tr>\n",
       "    <tr>\n",
       "      <th>2</th>\n",
       "      <td>mssmoney_1</td>\n",
       "      <td>2016-07-14 23:59:00</td>\n",
       "      <td>0</td>\n",
       "      <td>0</td>\n",
       "      <td>Brexit is emerging as a key worry on U.S. comp...</td>\n",
       "      <td>2016-07-14</td>\n",
       "      <td>23</td>\n",
       "      <td>NaN</td>\n",
       "      <td>0.000000</td>\n",
       "      <td>0</td>\n",
       "    </tr>\n",
       "    <tr>\n",
       "      <th>3</th>\n",
       "      <td>hengistmcstone</td>\n",
       "      <td>2016-07-14 23:59:00</td>\n",
       "      <td>0</td>\n",
       "      <td>0</td>\n",
       "      <td>I still say Brexit is not the will of the ppl ...</td>\n",
       "      <td>2016-07-14</td>\n",
       "      <td>23</td>\n",
       "      <td>NaN</td>\n",
       "      <td>-0.083333</td>\n",
       "      <td>-1</td>\n",
       "    </tr>\n",
       "    <tr>\n",
       "      <th>4</th>\n",
       "      <td>kv654321</td>\n",
       "      <td>2016-07-14 23:59:00</td>\n",
       "      <td>1</td>\n",
       "      <td>2</td>\n",
       "      <td>People have voted for unknown - reality genera...</td>\n",
       "      <td>2016-07-14</td>\n",
       "      <td>23</td>\n",
       "      <td>NaN</td>\n",
       "      <td>-0.025000</td>\n",
       "      <td>-1</td>\n",
       "    </tr>\n",
       "  </tbody>\n",
       "</table>\n",
       "</div>"
      ],
      "text/plain": [
       "         username             DateTime  retweets  favorites  \\\n",
       "0      sharpielaw  2016-07-14 23:59:00         0          1   \n",
       "1     yinyangyogi  2016-07-14 23:59:00         0          0   \n",
       "2      mssmoney_1  2016-07-14 23:59:00         0          0   \n",
       "3  hengistmcstone  2016-07-14 23:59:00         0          0   \n",
       "4        kv654321  2016-07-14 23:59:00         1          2   \n",
       "\n",
       "                                                text        Date  Hour  \\\n",
       "0  As May's agenda is to alienate Britain from Eu...  2016-07-14    23   \n",
       "1  Difference in opinion of propaganda. For a lot...  2016-07-14    23   \n",
       "2  Brexit is emerging as a key worry on U.S. comp...  2016-07-14    23   \n",
       "3  I still say Brexit is not the will of the ppl ...  2016-07-14    23   \n",
       "4  People have voted for unknown - reality genera...  2016-07-14    23   \n",
       "\n",
       "   Unnamed: 0  sentiment_score  sentiment  \n",
       "0         NaN         0.437500          1  \n",
       "1         NaN        -0.100000         -1  \n",
       "2         NaN         0.000000          0  \n",
       "3         NaN        -0.083333         -1  \n",
       "4         NaN        -0.025000         -1  "
      ]
     },
     "execution_count": 34,
     "metadata": {},
     "output_type": "execute_result"
    }
   ],
   "source": [
    "# Sentiment analysis!\n",
    "def analyze(tweet):\n",
    "    sentiment = TextBlob(tweet).sentiment.polarity\n",
    "    return sentiment\n",
    "\n",
    "def get_sentiment(score):\n",
    "    if score > 0:\n",
    "        return 1\n",
    "    elif score < 0:\n",
    "        return -1\n",
    "    return 0\n",
    "\n",
    "df['sentiment_score'] = df['text'].apply(analyze)\n",
    "df['sentiment'] = df['sentiment_score'].apply(get_sentiment)\n",
    "df.head()\n"
   ]
  },
  {
   "cell_type": "code",
   "execution_count": 14,
   "metadata": {},
   "outputs": [
    {
     "data": {
      "text/plain": [
       "(array([  74.,   86.,  235.,  420., 1100., 4314.,  868.,  422.,  143.,\n",
       "         151.]),\n",
       " array([-1. , -0.8, -0.6, -0.4, -0.2,  0. ,  0.2,  0.4,  0.6,  0.8,  1. ]),\n",
       " <a list of 10 Patch objects>)"
      ]
     },
     "execution_count": 14,
     "metadata": {},
     "output_type": "execute_result"
    },
    {
     "data": {
      "image/png": "[encoded data removed]",
      "text/plain": [
       "<Figure size 432x288 with 1 Axes>"
      ]
     },
     "metadata": {
      "needs_background": "light"
     },
     "output_type": "display_data"
    }
   ],
   "source": [
    "plt.hist(df['sentiment_score'])"
   ]
  },
  {
   "cell_type": "code",
   "execution_count": 53,
   "metadata": {},
   "outputs": [
    {
     "data": {
      "image/png": "[encoded data removed]",
      "text/plain": [
       "<Figure size 864x576 with 4 Axes>"
      ]
     },
     "metadata": {
      "needs_background": "light"
     },
     "output_type": "display_data"
    }
   ],
   "source": [
    "axes = df.hist('sentiment_score', by='Date', figsize=(12,8), layout=(2,2), grid=False, xrot=0, bins=20)\n",
    "for ax in axes.flatten():\n",
    "    ax.set_ylabel('Counts')\n",
    "    ax.set_xlabel('TextBlob Polarity Score')\n",
    "\n",
    "plt.savefig('./fig/tweet/sentiment/textblob_scores.pdf')"
   ]
  },
  {
   "cell_type": "code",
   "execution_count": null,
   "metadata": {},
   "outputs": [],
   "source": []
  }
 ],
 "metadata": {
  "kernelspec": {
   "display_name": "Python 3",
   "language": "python",
   "name": "python3"
  },
  "language_info": {
   "codemirror_mode": {
    "name": "ipython",
    "version": 3
   },
   "file_extension": ".py",
   "mimetype": "text/x-python",
   "name": "python",
   "nbconvert_exporter": "python",
   "pygments_lexer": "ipython3",
   "version": "3.7.5"
  }
 },
 "nbformat": 4,
 "nbformat_minor": 4
}
