{
 "cells": [
  {
   "cell_type": "code",
   "execution_count": 2,
   "metadata": {},
   "outputs": [],
   "source": [
    "import os\n",
    "import nltk\n",
    "import pandas as pd\n",
    "import numpy as np\n",
    "import pickle\n",
    "from tqdm import tqdm\n",
    "from sklearn.feature_extraction.text import CountVectorizer, TfidfTransformer\n",
    "from sklearn.naive_bayes import MultinomialNB\n",
    "\n",
    "pjoin = os.path.join"
   ]
  },
  {
   "cell_type": "code",
   "execution_count": 3,
   "metadata": {},
   "outputs": [
    {
     "name": "stdout",
     "output_type": "stream",
     "text": [
      "[0 4]\n"
     ]
    },
    {
     "data": {
      "text/html": [
       "<div>\n",
       "<style scoped>\n",
       "    .dataframe tbody tr th:only-of-type {\n",
       "        vertical-align: middle;\n",
       "    }\n",
       "\n",
       "    .dataframe tbody tr th {\n",
       "        vertical-align: top;\n",
       "    }\n",
       "\n",
       "    .dataframe thead th {\n",
       "        text-align: right;\n",
       "    }\n",
       "</style>\n",
       "<table border=\"1\" class=\"dataframe\">\n",
       "  <thead>\n",
       "    <tr style=\"text-align: right;\">\n",
       "      <th></th>\n",
       "      <th>Tweet</th>\n",
       "      <th>Sentiment</th>\n",
       "    </tr>\n",
       "  </thead>\n",
       "  <tbody>\n",
       "    <tr>\n",
       "      <th>0</th>\n",
       "      <td>- awww, that's a bummer.  you shoulda got da...</td>\n",
       "      <td>0</td>\n",
       "    </tr>\n",
       "    <tr>\n",
       "      <th>1</th>\n",
       "      <td>is upset that he can't update his facebook by ...</td>\n",
       "      <td>0</td>\n",
       "    </tr>\n",
       "    <tr>\n",
       "      <th>2</th>\n",
       "      <td>i dived many times for the ball. managed to s...</td>\n",
       "      <td>0</td>\n",
       "    </tr>\n",
       "    <tr>\n",
       "      <th>3</th>\n",
       "      <td>my whole body feels itchy and like its on fire</td>\n",
       "      <td>0</td>\n",
       "    </tr>\n",
       "    <tr>\n",
       "      <th>4</th>\n",
       "      <td>no, it's not behaving at all. i'm mad. why am...</td>\n",
       "      <td>0</td>\n",
       "    </tr>\n",
       "  </tbody>\n",
       "</table>\n",
       "</div>"
      ],
      "text/plain": [
       "                                               Tweet  Sentiment\n",
       "0    - awww, that's a bummer.  you shoulda got da...          0\n",
       "1  is upset that he can't update his facebook by ...          0\n",
       "2   i dived many times for the ball. managed to s...          0\n",
       "3     my whole body feels itchy and like its on fire          0\n",
       "4   no, it's not behaving at all. i'm mad. why am...          0"
      ]
     },
     "execution_count": 3,
     "metadata": {},
     "output_type": "execute_result"
    }
   ],
   "source": [
    "# Read pre-processed data from pickle file\n",
    "pkl_dir = './data/tweet/sentiment_analysis/pkl'\n",
    "processed_df = pd.read_pickle(pjoin(pkl_dir, 'processed_tweets_sentiments.pkl'))\n",
    "\n",
    "# Swap tweet and sentiment columns\n",
    "processed_df = processed_df.reindex(columns=['Tweet', 'Sentiment'])\n",
    "\n",
    "print(processed_df['Sentiment'].unique())\n",
    "processed_df.head()"
   ]
  },
  {
   "cell_type": "code",
   "execution_count": 4,
   "metadata": {},
   "outputs": [
    {
     "name": "stdout",
     "output_type": "stream",
     "text": [
      "Number of training samples: 1278818, (79.9 %)\n",
      "Number of testing samples: 321182 (20.1 %)\n"
     ]
    }
   ],
   "source": [
    "# Divide 1.6M tweets into training (~80%) and testing (~20%) sets!\n",
    "mask = np.random.rand(len(processed_df)) < 0.8\n",
    "training_df = processed_df[mask]\n",
    "test_df = processed_df[~mask]\n",
    "\n",
    "num_train, num_test = len(training_df), len(test_df)\n",
    "percent_train, percent_test = num_train/len(mask), num_test/len(mask)\n",
    "\n",
    "print(f'Number of training samples: {len(training_df)}, ({percent_train*100:.1f} %)')\n",
    "print(f'Number of testing samples: {len(test_df)} ({percent_test*100:.1f} %)')"
   ]
  },
  {
   "cell_type": "markdown",
   "metadata": {},
   "source": [
    "## Training & Testing the Classifier\n",
    "\n",
    "Here, we train the sentiment classifier on 80% of the data, and test on the remaining 20%."
   ]
  },
  {
   "cell_type": "code",
   "execution_count": 5,
   "metadata": {},
   "outputs": [
    {
     "data": {
      "text/plain": [
       "(1278818, 237222)"
      ]
     },
     "execution_count": 5,
     "metadata": {},
     "output_type": "execute_result"
    }
   ],
   "source": [
    "X_train_tweets = training_df['Tweet'].values.tolist()\n",
    "X_train_sentiments = training_df['Sentiment'].values.tolist()\n",
    "count_vect = CountVectorizer()\n",
    "X_train_counts = count_vect.fit_transform(X_train_tweets)\n",
    "X_train_counts.shape"
   ]
  },
  {
   "cell_type": "code",
   "execution_count": 6,
   "metadata": {},
   "outputs": [
    {
     "data": {
      "text/plain": [
       "(1278818, 237222)"
      ]
     },
     "execution_count": 6,
     "metadata": {},
     "output_type": "execute_result"
    }
   ],
   "source": [
    "# Divide the occurences with total number of words in each tweet (normalize)\n",
    "tfidf_transformer = TfidfTransformer()\n",
    "X_train_tfidf = tfidf_transformer.fit_transform(X_train_counts)\n",
    "X_train_tfidf.shape"
   ]
  },
  {
   "cell_type": "code",
   "execution_count": 7,
   "metadata": {},
   "outputs": [
    {
     "data": {
      "text/plain": [
       "MultinomialNB(alpha=1.0, class_prior=None, fit_prior=True)"
      ]
     },
     "execution_count": 7,
     "metadata": {},
     "output_type": "execute_result"
    }
   ],
   "source": [
    "# Train the classifier with normalized frequency distributions\n",
    "clf = MultinomialNB()\n",
    "clf.fit(X_train_tfidf, X_train_sentiments)"
   ]
  },
  {
   "cell_type": "code",
   "execution_count": 8,
   "metadata": {},
   "outputs": [
    {
     "name": "stdout",
     "output_type": "stream",
     "text": [
      "(321182, 237222)\n"
     ]
    },
    {
     "data": {
      "text/plain": [
       "0.7822916601802093"
      ]
     },
     "execution_count": 8,
     "metadata": {},
     "output_type": "execute_result"
    }
   ],
   "source": [
    "# Test the model\n",
    "X_test_tweets = test_df['Tweet'].values.tolist()\n",
    "X_test_sentiments = test_df['Sentiment'].values.tolist()\n",
    "X_test_counts = count_vect.transform(X_test_tweets)\n",
    "print(X_test_counts.shape)\n",
    "\n",
    "clf.score(X_test_counts, X_test_sentiments)"
   ]
  },
  {
   "cell_type": "code",
   "execution_count": 9,
   "metadata": {},
   "outputs": [
    {
     "name": "stdout",
     "output_type": "stream",
     "text": [
      "Model saved to file: ./data/tweet/sentiment_analysis/pkl/classifier.pkl\n",
      "Vectorizer saved to file: ./data/tweet/sentiment_analysis/pkl/vectorizer.pkl\n"
     ]
    }
   ],
   "source": [
    "# Pickle the model for later use\n",
    "pkl_dir = './data/tweet/sentiment_analysis/pkl'\n",
    "pkl_file = pjoin(pkl_dir, 'classifier.pkl')\n",
    "\n",
    "with open(pkl_file, 'wb+') as f:\n",
    "    pickle.dump(clf, f)    \n",
    "\n",
    "print(f'Model saved to file: {pkl_file}')\n",
    "\n",
    "# Pickle the vectorizer as well for later use\n",
    "pkl_file_vect = pjoin(pkl_dir, 'vectorizer.pkl')\n",
    "\n",
    "with open(pkl_file_vect, 'wb+') as f:\n",
    "    pickle.dump(count_vect, f)\n",
    "\n",
    "print(f'Vectorizer saved to file: {pkl_file_vect}')"
   ]
  },
  {
   "cell_type": "code",
   "execution_count": null,
   "metadata": {},
   "outputs": [],
   "source": []
  }
 ],
 "metadata": {
  "kernelspec": {
   "display_name": "Python 3",
   "language": "python",
   "name": "python3"
  },
  "language_info": {
   "codemirror_mode": {
    "name": "ipython",
    "version": 3
   },
   "file_extension": ".py",
   "mimetype": "text/x-python",
   "name": "python",
   "nbconvert_exporter": "python",
   "pygments_lexer": "ipython3",
   "version": "3.7.5"
  }
 },
 "nbformat": 4,
 "nbformat_minor": 4
}
