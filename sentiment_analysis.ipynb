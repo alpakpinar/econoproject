{
 "cells": [
  {
   "cell_type": "code",
   "execution_count": 32,
   "metadata": {},
   "outputs": [],
   "source": [
    "import twitter\n",
    "import os\n",
    "import pandas as pd\n",
    "import time\n",
    "from pprint import pprint\n",
    "from itertools import chain\n",
    "pjoin = os.path.join"
   ]
  },
  {
   "cell_type": "code",
   "execution_count": 2,
   "metadata": {},
   "outputs": [
    {
     "name": "stdout",
     "output_type": "stream",
     "text": [
      "{\"created_at\": \"Sat Aug 24 08:24:50 +0000 2019\", \"default_profile\": true, \"description\": \"Physicist, interested in software, tech, coffee & all that stuff | Boston University Physics PhD Student | Bo\\u011fazi\\u00e7i University \\u201818\", \"favourites_count\": 15, \"followers_count\": 13, \"friends_count\": 54, \"id\": 1165178081994248192, \"id_str\": \"1165178081994248192\", \"location\": \"Boston, MA\", \"name\": \"Alp Akp\\u0131nar\", \"profile_background_color\": \"F5F8FA\", \"profile_image_url\": \"http://pbs.twimg.com/profile_images/1165178556328087552/avXATya5_normal.jpg\", \"profile_image_url_https\": \"https://pbs.twimg.com/profile_images/1165178556328087552/avXATya5_normal.jpg\", \"profile_link_color\": \"1DA1F2\", \"profile_sidebar_border_color\": \"C0DEED\", \"profile_sidebar_fill_color\": \"DDEEF6\", \"profile_text_color\": \"333333\", \"profile_use_background_image\": true, \"screen_name\": \"alp_akpinar\"}\n"
     ]
    }
   ],
   "source": [
    "# Get access tokens\n",
    "tokens = {}\n",
    "token_dir = '.tokens'\n",
    "token_file = pjoin(token_dir, os.listdir('.tokens')[0])\n",
    "\n",
    "with open(token_file, 'r') as f:\n",
    "    for line in f.readlines():\n",
    "        tag, token = line.split(': ')\n",
    "        tokens[tag] = token.replace('\\n', '')\n",
    "\n",
    "# Initialize API instance\n",
    "twitter_api = twitter.Api(\n",
    "        consumer_key=tokens['api_key'],\n",
    "        consumer_secret=tokens['api_secret_key'],\n",
    "        access_token_key=tokens['access_token'],\n",
    "        access_token_secret=tokens['access_token_secret']\n",
    "    )\n",
    "\n",
    "print(twitter_api.VerifyCredentials())"
   ]
  },
  {
   "cell_type": "code",
   "execution_count": 18,
   "metadata": {},
   "outputs": [
    {
     "name": "stdout",
     "output_type": "stream",
     "text": [
      "Getting tweets: 1000/1000\n"
     ]
    }
   ],
   "source": [
    "def build_test_set(keyword, num_tweets=1000):\n",
    "    '''Build test set of tweets for a given keyword.'''\n",
    "    all_tweets = []\n",
    "    num_tweets_fetched = 0\n",
    "    num_requests = int(num_tweets / 100)\n",
    "    for _ in range(num_requests):\n",
    "        print(f'Getting tweets: {num_tweets_fetched}/{num_tweets}', end='\\r')\n",
    "        tweets_fetched = twitter_api.GetSearch(keyword, count=100)\n",
    "        all_tweets.append(tweets_fetched)\n",
    "        \n",
    "        num_tweets_fetched += 100\n",
    "        \n",
    "        # Wait 1 second until the next GET request\n",
    "        time.sleep(1)\n",
    "\n",
    "    print(f'Getting tweets: {num_tweets_fetched}/{num_tweets}')\n",
    "        \n",
    "    return all_tweets\n",
    "\n",
    "# Build the test set for the sentiment classifier\n",
    "test_set = build_test_set('Brexit')"
   ]
  },
  {
   "cell_type": "code",
   "execution_count": 19,
   "metadata": {},
   "outputs": [],
   "source": [
    "# Flatten the test set\n",
    "test_set = list(chain.from_iterable(test_set))"
   ]
  },
  {
   "cell_type": "code",
   "execution_count": 40,
   "metadata": {},
   "outputs": [
    {
     "name": "stdout",
     "output_type": "stream",
     "text": [
      "File saved: ./data/tweet/sentiment_analysis/training_set_clean.csv\n"
     ]
    }
   ],
   "source": [
    "def build_training_set(corpus_file, cleaned_file):\n",
    "    '''\n",
    "    Clean the original CSV file (corpus_file), save results to new CSV file (cleaned_file)\n",
    "    '''\n",
    "    # Get contents from original CSV file first\n",
    "    colnames = ['Sentiment', 'Tweet ID', 'DateTime', 'Query', 'Username', 'Text']\n",
    "    df = pd.read_csv(corpus_file, encoding='latin-1', names=colnames)\n",
    "    \n",
    "    # Keep sentiment and text columns only\n",
    "    clean_df = df[['Sentiment', 'Text']]\n",
    "\n",
    "    # Save the cleaned df to new file\n",
    "    clean_df.to_csv(cleaned_file, index=False)\n",
    "    \n",
    "    print(f'File saved: {cleaned_file}')\n",
    "    \n",
    "corpus_file = './data/tweet/sentiment_analysis/training_set.csv'\n",
    "tweet_data_file = './data/tweet/sentiment_analysis/training_set_clean.csv'\n",
    "\n",
    "build_training_set(corpus_file, tweet_data_file)\n"
   ]
  },
  {
   "cell_type": "code",
   "execution_count": null,
   "metadata": {},
   "outputs": [],
   "source": []
  }
 ],
 "metadata": {
  "kernelspec": {
   "display_name": "Python 3",
   "language": "python",
   "name": "python3"
  },
  "language_info": {
   "codemirror_mode": {
    "name": "ipython",
    "version": 3
   },
   "file_extension": ".py",
   "mimetype": "text/x-python",
   "name": "python",
   "nbconvert_exporter": "python",
   "pygments_lexer": "ipython3",
   "version": "3.7.5"
  }
 },
 "nbformat": 4,
 "nbformat_minor": 4
}
