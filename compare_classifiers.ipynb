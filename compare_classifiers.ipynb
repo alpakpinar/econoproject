{
 "cells": [
  {
   "cell_type": "code",
   "execution_count": 40,
   "metadata": {},
   "outputs": [],
   "source": [
    "import pandas as pd\n",
    "from textblob import TextBlob\n",
    "import numpy as np\n",
    "import os\n",
    "from matplotlib import pyplot as plt\n",
    "\n",
    "pjoin = os.path.join\n"
   ]
  },
  {
   "cell_type": "code",
   "execution_count": 49,
   "metadata": {},
   "outputs": [
    {
     "name": "stderr",
     "output_type": "stream",
     "text": [
      "b'Skipping line 408: expected 10 fields, saw 11\\nSkipping line 536: expected 10 fields, saw 11\\nSkipping line 1066: expected 10 fields, saw 12\\nSkipping line 2172: expected 10 fields, saw 11\\nSkipping line 2636: expected 10 fields, saw 11\\nSkipping line 2809: expected 10 fields, saw 11\\nSkipping line 4051: expected 10 fields, saw 11\\nSkipping line 7702: expected 10 fields, saw 11\\nSkipping line 7729: expected 10 fields, saw 11\\nSkipping line 8348: expected 10 fields, saw 11\\nSkipping line 9054: expected 10 fields, saw 11\\n'\n"
     ]
    },
    {
     "data": {
      "text/html": [
       "<div>\n",
       "<style scoped>\n",
       "    .dataframe tbody tr th:only-of-type {\n",
       "        vertical-align: middle;\n",
       "    }\n",
       "\n",
       "    .dataframe tbody tr th {\n",
       "        vertical-align: top;\n",
       "    }\n",
       "\n",
       "    .dataframe thead th {\n",
       "        text-align: right;\n",
       "    }\n",
       "</style>\n",
       "<table border=\"1\" class=\"dataframe\">\n",
       "  <thead>\n",
       "    <tr style=\"text-align: right;\">\n",
       "      <th></th>\n",
       "      <th>retweets</th>\n",
       "      <th>favorites</th>\n",
       "      <th>text</th>\n",
       "    </tr>\n",
       "    <tr>\n",
       "      <th>Date</th>\n",
       "      <th></th>\n",
       "      <th></th>\n",
       "      <th></th>\n",
       "    </tr>\n",
       "  </thead>\n",
       "  <tbody>\n",
       "    <tr>\n",
       "      <th>2016-07-15</th>\n",
       "      <td>30</td>\n",
       "      <td>38</td>\n",
       "      <td>How Sky News is making this attack about Brexi...</td>\n",
       "    </tr>\n",
       "    <tr>\n",
       "      <th>2016-07-15</th>\n",
       "      <td>4</td>\n",
       "      <td>7</td>\n",
       "      <td>Where is the voice sayingthis whole brexit is ...</td>\n",
       "    </tr>\n",
       "    <tr>\n",
       "      <th>2016-07-15</th>\n",
       "      <td>52</td>\n",
       "      <td>53</td>\n",
       "      <td>Don't let truth &amp; reason die THERE IS NO MANDA...</td>\n",
       "    </tr>\n",
       "    <tr>\n",
       "      <th>2016-07-15</th>\n",
       "      <td>8</td>\n",
       "      <td>7</td>\n",
       "      <td>Brilliant article on why #Brexit is a disaster...</td>\n",
       "    </tr>\n",
       "    <tr>\n",
       "      <th>2016-07-15</th>\n",
       "      <td>0</td>\n",
       "      <td>1</td>\n",
       "      <td>Die einen wollen #Deutschland abschaffen, die ...</td>\n",
       "    </tr>\n",
       "  </tbody>\n",
       "</table>\n",
       "</div>"
      ],
      "text/plain": [
       "            retweets  favorites  \\\n",
       "Date                              \n",
       "2016-07-15        30         38   \n",
       "2016-07-15         4          7   \n",
       "2016-07-15        52         53   \n",
       "2016-07-15         8          7   \n",
       "2016-07-15         0          1   \n",
       "\n",
       "                                                         text  \n",
       "Date                                                           \n",
       "2016-07-15  How Sky News is making this attack about Brexi...  \n",
       "2016-07-15  Where is the voice sayingthis whole brexit is ...  \n",
       "2016-07-15  Don't let truth & reason die THERE IS NO MANDA...  \n",
       "2016-07-15  Brilliant article on why #Brexit is a disaster...  \n",
       "2016-07-15  Die einen wollen #Deutschland abschaffen, die ...  "
      ]
     },
     "execution_count": 49,
     "metadata": {},
     "output_type": "execute_result"
    }
   ],
   "source": [
    "tweet_csv_dir = './data/tweet/brexit'\n",
    "\n",
    "tweet_csv_file = pjoin(tweet_csv_dir, 'brexit_2016-06-01_2016-07-15_toptweets_10000.csv')\n",
    "\n",
    "df = pd.read_csv(tweet_csv_file, parse_dates=[1], error_bad_lines=False, delimiter=';')\n",
    "\n",
    "# Add separate date and time columns\n",
    "df.rename(columns={'date' : 'DateTime'}, inplace=True)\n",
    "\n",
    "df['Date'] = df['DateTime'].dt.date\n",
    "\n",
    "# Set date as the index for df\n",
    "df.set_index('Date', inplace=True)\n",
    "\n",
    "# Cleanup\n",
    "df.drop(columns=['geo', 'permalink', 'DateTime', 'username', 'mentions', 'hashtags', 'id'], inplace=True)\n",
    "\n",
    "df.head()\n"
   ]
  },
  {
   "cell_type": "markdown",
   "metadata": {},
   "source": [
    "## Two Sentiment Classifiers: NLTK vs TextBlob\n",
    "\n",
    "Here, we compare results of two sentiment classifiers, one from NLTK library and the other one from TextBlob."
   ]
  },
  {
   "cell_type": "code",
   "execution_count": 50,
   "metadata": {},
   "outputs": [
    {
     "data": {
      "text/html": [
       "<div>\n",
       "<style scoped>\n",
       "    .dataframe tbody tr th:only-of-type {\n",
       "        vertical-align: middle;\n",
       "    }\n",
       "\n",
       "    .dataframe tbody tr th {\n",
       "        vertical-align: top;\n",
       "    }\n",
       "\n",
       "    .dataframe thead th {\n",
       "        text-align: right;\n",
       "    }\n",
       "</style>\n",
       "<table border=\"1\" class=\"dataframe\">\n",
       "  <thead>\n",
       "    <tr style=\"text-align: right;\">\n",
       "      <th></th>\n",
       "      <th>retweets</th>\n",
       "      <th>favorites</th>\n",
       "      <th>text</th>\n",
       "      <th>TextBlob Score</th>\n",
       "      <th>NLTK Score</th>\n",
       "    </tr>\n",
       "    <tr>\n",
       "      <th>Date</th>\n",
       "      <th></th>\n",
       "      <th></th>\n",
       "      <th></th>\n",
       "      <th></th>\n",
       "      <th></th>\n",
       "    </tr>\n",
       "  </thead>\n",
       "  <tbody>\n",
       "    <tr>\n",
       "      <th>2016-07-15</th>\n",
       "      <td>30</td>\n",
       "      <td>38</td>\n",
       "      <td>How Sky News is making this attack about Brexi...</td>\n",
       "      <td>-0.05</td>\n",
       "      <td>-0.8135</td>\n",
       "    </tr>\n",
       "    <tr>\n",
       "      <th>2016-07-15</th>\n",
       "      <td>4</td>\n",
       "      <td>7</td>\n",
       "      <td>Where is the voice sayingthis whole brexit is ...</td>\n",
       "      <td>0.30</td>\n",
       "      <td>-0.2960</td>\n",
       "    </tr>\n",
       "    <tr>\n",
       "      <th>2016-07-15</th>\n",
       "      <td>52</td>\n",
       "      <td>53</td>\n",
       "      <td>Don't let truth &amp; reason die THERE IS NO MANDA...</td>\n",
       "      <td>0.00</td>\n",
       "      <td>-0.8314</td>\n",
       "    </tr>\n",
       "    <tr>\n",
       "      <th>2016-07-15</th>\n",
       "      <td>8</td>\n",
       "      <td>7</td>\n",
       "      <td>Brilliant article on why #Brexit is a disaster...</td>\n",
       "      <td>0.90</td>\n",
       "      <td>-0.3612</td>\n",
       "    </tr>\n",
       "    <tr>\n",
       "      <th>2016-07-15</th>\n",
       "      <td>0</td>\n",
       "      <td>1</td>\n",
       "      <td>Die einen wollen #Deutschland abschaffen, die ...</td>\n",
       "      <td>0.00</td>\n",
       "      <td>-0.8316</td>\n",
       "    </tr>\n",
       "  </tbody>\n",
       "</table>\n",
       "</div>"
      ],
      "text/plain": [
       "            retweets  favorites  \\\n",
       "Date                              \n",
       "2016-07-15        30         38   \n",
       "2016-07-15         4          7   \n",
       "2016-07-15        52         53   \n",
       "2016-07-15         8          7   \n",
       "2016-07-15         0          1   \n",
       "\n",
       "                                                         text  TextBlob Score  \\\n",
       "Date                                                                            \n",
       "2016-07-15  How Sky News is making this attack about Brexi...           -0.05   \n",
       "2016-07-15  Where is the voice sayingthis whole brexit is ...            0.30   \n",
       "2016-07-15  Don't let truth & reason die THERE IS NO MANDA...            0.00   \n",
       "2016-07-15  Brilliant article on why #Brexit is a disaster...            0.90   \n",
       "2016-07-15  Die einen wollen #Deutschland abschaffen, die ...            0.00   \n",
       "\n",
       "            NLTK Score  \n",
       "Date                    \n",
       "2016-07-15     -0.8135  \n",
       "2016-07-15     -0.2960  \n",
       "2016-07-15     -0.8314  \n",
       "2016-07-15     -0.3612  \n",
       "2016-07-15     -0.8316  "
      ]
     },
     "execution_count": 50,
     "metadata": {},
     "output_type": "execute_result"
    }
   ],
   "source": [
    "# First, classify with pattern based TextBlob classifier\n",
    "# Score is labeled as: TextBlob score\n",
    "get_score_with_pb_clf = lambda text: TextBlob(text).sentiment.polarity\n",
    "df['TextBlob Score'] = df['text'].apply(get_score_with_pb_clf)\n",
    "\n",
    "# Next, classify with NLTK's sentiment classifier\n",
    "# Score is labeled as: NLTK score\n",
    "import nltk\n",
    "# nltk.download('vader_lexicon')\n",
    "from nltk.sentiment.vader import SentimentIntensityAnalyzer\n",
    "s = SentimentIntensityAnalyzer()\n",
    "get_nltk_score = lambda text: s.polarity_scores(text)['compound']\n",
    "df['NLTK Score'] = df['text'].apply(get_nltk_score)\n",
    "\n",
    "df.head()"
   ]
  },
  {
   "cell_type": "code",
   "execution_count": 51,
   "metadata": {},
   "outputs": [
    {
     "data": {
      "image/png": "[encoded data removed]",
      "text/plain": [
       "<Figure size 1080x360 with 2 Axes>"
      ]
     },
     "metadata": {
      "needs_background": "light"
     },
     "output_type": "display_data"
    }
   ],
   "source": [
    "axes = df[['NLTK Score', 'TextBlob Score']].hist(figsize=(15,5), grid=False, bins=20)\n",
    "axes = axes[0]\n",
    "for ax in axes:\n",
    "    ax.set_xlabel('Polarity Score', fontsize=14)\n",
    "    ax.set_ylabel('Counts', fontsize=14)\n",
    "\n",
    "axes[0].set_title('NLTK Score', fontsize=16)\n",
    "axes[1].set_title('TextBlob Score', fontsize=16)\n",
    "\n",
    "fig_dir = './fig/tweet/sentiment/diff_classifiers'\n",
    "\n",
    "plt.savefig(pjoin(fig_dir, 'nltk_vs_textblob_all_scores.pdf'))"
   ]
  },
  {
   "cell_type": "code",
   "execution_count": 88,
   "metadata": {},
   "outputs": [
    {
     "data": {
      "image/png": "[encoded data removed]",
      "text/plain": [
       "<Figure size 576x360 with 1 Axes>"
      ]
     },
     "metadata": {
      "needs_background": "light"
     },
     "output_type": "display_data"
    }
   ],
   "source": [
    "# Remove entries with |NLTK Score| < 0.1\n",
    "cleandf = df[np.abs(df['NLTK Score']) >= 0.1]\n",
    "ax = cleandf['NLTK Score'].hist(bins=np.linspace(-1,1,21), figsize=(8,5), grid=False)\n",
    "ax.set_xlabel('Polarity Score', fontsize=14)\n",
    "ax.set_ylabel('Counts', fontsize=14)\n",
    "ax.set_title('NLTK Score After Cut', fontsize=16)\n",
    "\n",
    "plt.savefig(pjoin(fig_dir, 'nltk_scores_after_01_cut.pdf'))\n"
   ]
  },
  {
   "cell_type": "code",
   "execution_count": 89,
   "metadata": {},
   "outputs": [
    {
     "data": {
      "text/html": [
       "<div>\n",
       "<style scoped>\n",
       "    .dataframe tbody tr th:only-of-type {\n",
       "        vertical-align: middle;\n",
       "    }\n",
       "\n",
       "    .dataframe tbody tr th {\n",
       "        vertical-align: top;\n",
       "    }\n",
       "\n",
       "    .dataframe thead th {\n",
       "        text-align: right;\n",
       "    }\n",
       "</style>\n",
       "<table border=\"1\" class=\"dataframe\">\n",
       "  <thead>\n",
       "    <tr style=\"text-align: right;\">\n",
       "      <th></th>\n",
       "      <th>retweets</th>\n",
       "      <th>favorites</th>\n",
       "      <th>text</th>\n",
       "      <th>TextBlob Score</th>\n",
       "      <th>NLTK Score</th>\n",
       "      <th>NLTK Sentiment</th>\n",
       "    </tr>\n",
       "    <tr>\n",
       "      <th>Date</th>\n",
       "      <th></th>\n",
       "      <th></th>\n",
       "      <th></th>\n",
       "      <th></th>\n",
       "      <th></th>\n",
       "      <th></th>\n",
       "    </tr>\n",
       "  </thead>\n",
       "  <tbody>\n",
       "    <tr>\n",
       "      <th>2016-07-15</th>\n",
       "      <td>30</td>\n",
       "      <td>38</td>\n",
       "      <td>How Sky News is making this attack about Brexi...</td>\n",
       "      <td>-0.05</td>\n",
       "      <td>-0.8135</td>\n",
       "      <td>N</td>\n",
       "    </tr>\n",
       "    <tr>\n",
       "      <th>2016-07-15</th>\n",
       "      <td>4</td>\n",
       "      <td>7</td>\n",
       "      <td>Where is the voice sayingthis whole brexit is ...</td>\n",
       "      <td>0.30</td>\n",
       "      <td>-0.2960</td>\n",
       "      <td>N</td>\n",
       "    </tr>\n",
       "    <tr>\n",
       "      <th>2016-07-15</th>\n",
       "      <td>52</td>\n",
       "      <td>53</td>\n",
       "      <td>Don't let truth &amp; reason die THERE IS NO MANDA...</td>\n",
       "      <td>0.00</td>\n",
       "      <td>-0.8314</td>\n",
       "      <td>N</td>\n",
       "    </tr>\n",
       "    <tr>\n",
       "      <th>2016-07-15</th>\n",
       "      <td>8</td>\n",
       "      <td>7</td>\n",
       "      <td>Brilliant article on why #Brexit is a disaster...</td>\n",
       "      <td>0.90</td>\n",
       "      <td>-0.3612</td>\n",
       "      <td>N</td>\n",
       "    </tr>\n",
       "    <tr>\n",
       "      <th>2016-07-15</th>\n",
       "      <td>0</td>\n",
       "      <td>1</td>\n",
       "      <td>Die einen wollen #Deutschland abschaffen, die ...</td>\n",
       "      <td>0.00</td>\n",
       "      <td>-0.8316</td>\n",
       "      <td>N</td>\n",
       "    </tr>\n",
       "  </tbody>\n",
       "</table>\n",
       "</div>"
      ],
      "text/plain": [
       "            retweets  favorites  \\\n",
       "Date                              \n",
       "2016-07-15        30         38   \n",
       "2016-07-15         4          7   \n",
       "2016-07-15        52         53   \n",
       "2016-07-15         8          7   \n",
       "2016-07-15         0          1   \n",
       "\n",
       "                                                         text  TextBlob Score  \\\n",
       "Date                                                                            \n",
       "2016-07-15  How Sky News is making this attack about Brexi...           -0.05   \n",
       "2016-07-15  Where is the voice sayingthis whole brexit is ...            0.30   \n",
       "2016-07-15  Don't let truth & reason die THERE IS NO MANDA...            0.00   \n",
       "2016-07-15  Brilliant article on why #Brexit is a disaster...            0.90   \n",
       "2016-07-15  Die einen wollen #Deutschland abschaffen, die ...            0.00   \n",
       "\n",
       "            NLTK Score NLTK Sentiment  \n",
       "Date                                   \n",
       "2016-07-15     -0.8135              N  \n",
       "2016-07-15     -0.2960              N  \n",
       "2016-07-15     -0.8314              N  \n",
       "2016-07-15     -0.3612              N  \n",
       "2016-07-15     -0.8316              N  "
      ]
     },
     "execution_count": 89,
     "metadata": {},
     "output_type": "execute_result"
    }
   ],
   "source": [
    "def get_sentiment(score):\n",
    "    if score >= 0.1:\n",
    "        return 'P'\n",
    "    return 'N'\n",
    "\n",
    "df['NLTK Sentiment'] = df['NLTK Score'].apply(get_sentiment)\n",
    "df.head()"
   ]
  },
  {
   "cell_type": "code",
   "execution_count": 90,
   "metadata": {},
   "outputs": [
    {
     "data": {
      "image/png": "[encoded data removed]",
      "text/plain": [
       "<Figure size 576x360 with 1 Axes>"
      ]
     },
     "metadata": {
      "needs_background": "light"
     },
     "output_type": "display_data"
    }
   ],
   "source": [
    "grouped = df.groupby('Date')\n",
    "num_tweets = grouped['NLTK Score'].count()\n",
    "\n",
    "pos_and_neg = grouped['NLTK Sentiment'].value_counts().unstack()\n",
    "pos_and_neg['% P'] = pos_and_neg['P'] * 100 / num_tweets\n",
    "ax = pos_and_neg['% P'].plot(figsize=(8,5), grid=True, marker='o')\n",
    "ax.set_xlabel('Date', fontsize=14)\n",
    "ax.set_ylabel('% Positive Tweets', fontsize=14)\n",
    "ax.set_title(r'NLTK Classification, $|score| \\geq 0.1$', fontsize=16)\n",
    "\n",
    "ylim = ax.get_ylim()\n",
    "ax.plot([pd.to_datetime('2016-06-23')]*2, ylim, 'r--')\n",
    "ax.set_ylim(ylim)\n",
    "\n",
    "plt.savefig(pjoin(fig_dir, 'nltk_clf_with_01_threshold.pdf'))"
   ]
  },
  {
   "cell_type": "code",
   "execution_count": null,
   "metadata": {},
   "outputs": [],
   "source": []
  }
 ],
 "metadata": {
  "kernelspec": {
   "display_name": "Python 3",
   "language": "python",
   "name": "python3"
  },
  "language_info": {
   "codemirror_mode": {
    "name": "ipython",
    "version": 3
   },
   "file_extension": ".py",
   "mimetype": "text/x-python",
   "name": "python",
   "nbconvert_exporter": "python",
   "pygments_lexer": "ipython3",
   "version": "3.7.5"
  }
 },
 "nbformat": 4,
 "nbformat_minor": 4
}
