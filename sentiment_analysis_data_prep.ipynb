{
 "cells": [
  {
   "cell_type": "markdown",
   "metadata": {},
   "source": [
    "## Dataset Preparation For Sentiment Analysis\n",
    "\n",
    "Here, we will work on building the training and testing data for a sentiment classifier, based on Twitter data. This classifier will then be applied to Brexit related tweets between June 01, 2016 and July 15, 2016 to get a sense of general sentiment against this issue.\n",
    "\n",
    "The training and testing data is taken from Kaggle, composed of 1.6M tweets with labeled sentiments. It can be found [here](https://www.kaggle.com/kazanova/sentiment140/data). "
   ]
  },
  {
   "cell_type": "code",
   "execution_count": 1,
   "metadata": {},
   "outputs": [],
   "source": [
    "import twitter\n",
    "import os\n",
    "import pandas as pd\n",
    "import time\n",
    "from pprint import pprint\n",
    "from itertools import chain\n",
    "from processor.sentiment_data_processor import SentimentDataProcessor\n",
    "from sklearn.utils import shuffle\n",
    "\n",
    "pjoin = os.path.join"
   ]
  },
  {
   "cell_type": "code",
   "execution_count": 6,
   "metadata": {},
   "outputs": [
    {
     "name": "stdout",
     "output_type": "stream",
     "text": [
      "File saved: ./data/tweet/sentiment_analysis/training_set_clean.csv\n"
     ]
    }
   ],
   "source": [
    "def build_training_set(corpus_file, cleaned_file):\n",
    "    '''\n",
    "    Clean the original CSV file (corpus_file), save results to new CSV file (cleaned_file)\n",
    "    '''\n",
    "    # Get contents from original CSV file first\n",
    "    colnames = ['Sentiment', 'Tweet ID', 'DateTime', 'Query', 'Username', 'Text']\n",
    "    df = pd.read_csv(corpus_file, encoding='latin-1', names=colnames)\n",
    "    \n",
    "    # Keep sentiment and text columns only\n",
    "    clean_df = df[['Sentiment', 'Text']]\n",
    "\n",
    "    # Save the cleaned df to new file\n",
    "    clean_df.to_csv(cleaned_file, index=False)\n",
    "    \n",
    "    print(f'File saved: {cleaned_file}')\n",
    "    \n",
    "corpus_file = './data/tweet/sentiment_analysis/training_set.csv'\n",
    "tweet_data_file = './data/tweet/sentiment_analysis/training_set_clean.csv'\n",
    "\n",
    "build_training_set(corpus_file, tweet_data_file)\n"
   ]
  },
  {
   "cell_type": "code",
   "execution_count": 2,
   "metadata": {},
   "outputs": [
    {
     "name": "stderr",
     "output_type": "stream",
     "text": [
      "  0%|          | 3159/1600000 [00:00<02:07, 12515.61it/s]"
     ]
    },
    {
     "name": "stdout",
     "output_type": "stream",
     "text": [
      "Read all tweets\n"
     ]
    },
    {
     "name": "stderr",
     "output_type": "stream",
     "text": [
      "100%|██████████| 1600000/1600000 [01:14<00:00, 21564.33it/s]\n"
     ]
    },
    {
     "data": {
      "text/html": [
       "<div>\n",
       "<style scoped>\n",
       "    .dataframe tbody tr th:only-of-type {\n",
       "        vertical-align: middle;\n",
       "    }\n",
       "\n",
       "    .dataframe tbody tr th {\n",
       "        vertical-align: top;\n",
       "    }\n",
       "\n",
       "    .dataframe thead th {\n",
       "        text-align: right;\n",
       "    }\n",
       "</style>\n",
       "<table border=\"1\" class=\"dataframe\">\n",
       "  <thead>\n",
       "    <tr style=\"text-align: right;\">\n",
       "      <th></th>\n",
       "      <th>Sentiment</th>\n",
       "      <th>Tweet</th>\n",
       "    </tr>\n",
       "  </thead>\n",
       "  <tbody>\n",
       "    <tr>\n",
       "      <th>0</th>\n",
       "      <td>0</td>\n",
       "      <td>- awww, that's a bummer.  you shoulda got da...</td>\n",
       "    </tr>\n",
       "    <tr>\n",
       "      <th>1</th>\n",
       "      <td>0</td>\n",
       "      <td>is upset that he can't update his facebook by ...</td>\n",
       "    </tr>\n",
       "    <tr>\n",
       "      <th>2</th>\n",
       "      <td>0</td>\n",
       "      <td>i dived many times for the ball. managed to s...</td>\n",
       "    </tr>\n",
       "    <tr>\n",
       "      <th>3</th>\n",
       "      <td>0</td>\n",
       "      <td>my whole body feels itchy and like its on fire</td>\n",
       "    </tr>\n",
       "    <tr>\n",
       "      <th>4</th>\n",
       "      <td>0</td>\n",
       "      <td>no, it's not behaving at all. i'm mad. why am...</td>\n",
       "    </tr>\n",
       "  </tbody>\n",
       "</table>\n",
       "</div>"
      ],
      "text/plain": [
       "   Sentiment                                              Tweet\n",
       "0          0    - awww, that's a bummer.  you shoulda got da...\n",
       "1          0  is upset that he can't update his facebook by ...\n",
       "2          0   i dived many times for the ball. managed to s...\n",
       "3          0     my whole body feels itchy and like its on fire\n",
       "4          0   no, it's not behaving at all. i'm mad. why am..."
      ]
     },
     "execution_count": 2,
     "metadata": {},
     "output_type": "execute_result"
    }
   ],
   "source": [
    "# Preprocess tweets in the cleaned CSV file\n",
    "tweet_data_file = './data/tweet/sentiment_analysis/training_set_clean.csv'\n",
    "\n",
    "p = SentimentDataProcessor(tweet_data_file, num_tweets='all')\n",
    "\n",
    "df = p.get_processed_df()\n",
    "df.head()"
   ]
  },
  {
   "cell_type": "code",
   "execution_count": 3,
   "metadata": {},
   "outputs": [],
   "source": [
    "# Store processed dataframe in pickle file\n",
    "pkl_filedir = './data/tweet/sentiment_analysis/pkl'\n",
    "if not os.path.exists(pkl_filedir):\n",
    "    os.makedirs(pkl_filedir)\n",
    "\n",
    "pkl_file = pjoin(pkl_filedir, 'processed_tweets_sentiments.pkl')\n",
    "\n",
    "df.to_pickle(pkl_file)\n"
   ]
  },
  {
   "cell_type": "code",
   "execution_count": 4,
   "metadata": {},
   "outputs": [],
   "source": [
    "# Shuffle the dataframe, get first 500000 rows (to ease computation time)\n",
    "shuffled_df_500000 = shuffle(df).iloc[:500000]\n",
    "shuffled_df_500000.reset_index(inplace=True, drop=True)\n",
    "\n",
    "pkl_file_new = pjoin(pkl_filedir, 'processed_tweets_sentiments_shuffled_500000.pkl')\n",
    "\n",
    "shuffled_df_500000.to_pickle(pkl_file_new)"
   ]
  },
  {
   "cell_type": "code",
   "execution_count": null,
   "metadata": {},
   "outputs": [],
   "source": []
  }
 ],
 "metadata": {
  "kernelspec": {
   "display_name": "Python 3",
   "language": "python",
   "name": "python3"
  },
  "language_info": {
   "codemirror_mode": {
    "name": "ipython",
    "version": 3
   },
   "file_extension": ".py",
   "mimetype": "text/x-python",
   "name": "python",
   "nbconvert_exporter": "python",
   "pygments_lexer": "ipython3",
   "version": "3.7.5"
  }
 },
 "nbformat": 4,
 "nbformat_minor": 4
}
